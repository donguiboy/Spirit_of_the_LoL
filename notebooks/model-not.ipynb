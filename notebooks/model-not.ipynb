{
 "cells": [
  {
   "cell_type": "code",
<<<<<<< HEAD
   "execution_count": 2,
   "metadata": {},
   "outputs": [],
=======
   "execution_count": 121,
   "metadata": {},
   "outputs": [
    {
     "name": "stdout",
     "output_type": "stream",
     "text": [
      "The autoreload extension is already loaded. To reload it, use:\n",
      "  %reload_ext autoreload\n"
     ]
    }
   ],
>>>>>>> da3d30624cedfa210421ab334544855501bdda0c
   "source": [
    "%load_ext autoreload\n",
    "%autoreload 2"
   ]
  },
  {
   "cell_type": "code",
<<<<<<< HEAD
   "execution_count": 3,
   "metadata": {},
   "outputs": [
    {
     "name": "stderr",
     "output_type": "stream",
     "text": [
      "2023-07-06 18:24:13.928160: I tensorflow/core/platform/cpu_feature_guard.cc:193] This TensorFlow binary is optimized with oneAPI Deep Neural Network Library (oneDNN) to use the following CPU instructions in performance-critical operations:  AVX2 AVX512F AVX512_VNNI FMA\n",
      "To enable them in other operations, rebuild TensorFlow with the appropriate compiler flags.\n",
      "2023-07-06 18:24:14.594760: I tensorflow/core/util/util.cc:169] oneDNN custom operations are on. You may see slightly different numerical results due to floating-point round-off errors from different computation orders. To turn them off, set the environment variable `TF_ENABLE_ONEDNN_OPTS=0`.\n",
      "2023-07-06 18:24:14.793933: W tensorflow/stream_executor/platform/default/dso_loader.cc:64] Could not load dynamic library 'libcudart.so.11.0'; dlerror: libcudart.so.11.0: cannot open shared object file: No such file or directory\n",
      "2023-07-06 18:24:14.793956: I tensorflow/stream_executor/cuda/cudart_stub.cc:29] Ignore above cudart dlerror if you do not have a GPU set up on your machine.\n",
      "2023-07-06 18:24:14.916753: E tensorflow/stream_executor/cuda/cuda_blas.cc:2981] Unable to register cuBLAS factory: Attempting to register factory for plugin cuBLAS when one has already been registered\n",
      "2023-07-06 18:24:16.834620: W tensorflow/stream_executor/platform/default/dso_loader.cc:64] Could not load dynamic library 'libnvinfer.so.7'; dlerror: libnvinfer.so.7: cannot open shared object file: No such file or directory\n",
      "2023-07-06 18:24:16.834775: W tensorflow/stream_executor/platform/default/dso_loader.cc:64] Could not load dynamic library 'libnvinfer_plugin.so.7'; dlerror: libnvinfer_plugin.so.7: cannot open shared object file: No such file or directory\n",
      "2023-07-06 18:24:16.834781: W tensorflow/compiler/tf2tensorrt/utils/py_utils.cc:38] TF-TRT Warning: Cannot dlopen some TensorRT libraries. If you would like to use Nvidia GPU with TensorRT, please make sure the missing libraries mentioned above are installed properly.\n"
     ]
    }
   ],
=======
   "execution_count": 122,
   "metadata": {},
   "outputs": [],
>>>>>>> da3d30624cedfa210421ab334544855501bdda0c
   "source": [
    "import numpy as np\n",
    "import pandas as pd\n",
    "import os\n",
<<<<<<< HEAD
    "from sklearn.preprocessing import RobustScaler\n",
    "from sklearn.linear_model import LogisticRegression\n",
    "from sklearn.model_selection import cross_val_score\n",
    "from sklearn.inspection import permutation_importance\n",
    "from sklearn.linear_model import LogisticRegression\n",
    "from sklearn.model_selection import GridSearchCV\n",
    "from sklearn.model_selection import train_test_split\n",
    "import pickle\n",
    "import tensorflow as tf\n",
    "from tensorflow.keras import Sequential, layers\n",
    "from tensorflow.keras.layers import Dense\n",
    "\n"
=======
    "\n",
    "from sklearn.preprocessing import RobustScaler\n",
    "from sklearn.linear_model import LogisticRegression\n",
    "from sklearn.inspection import permutation_importance\n",
    "from sklearn.model_selection import GridSearchCV, train_test_split, cross_val_score\n",
    "\n",
    "\n",
    "import tensorflow as tf\n",
    "from tensorflow.keras import Sequential, layers\n",
    "from tensorflow.keras.layers import Dense\n",
    "\n",
    "from model_new import train_and_export_models\n",
    "\n",
    "from get_json import reduce_columns_train, process_folder, check_and_create_columns, iterate_files\n",
    "\n",
    "from get_diff import calculate_event_differences\n",
    "\n",
    "from clean_preprocess import preprocess_pred\n",
    "\n",
    "\n",
    "import pickle"
>>>>>>> da3d30624cedfa210421ab334544855501bdda0c
   ]
  },
  {
   "attachments": {},
   "cell_type": "markdown",
   "metadata": {},
   "source": [
    "# IMPORT DATA"
   ]
  },
  {
   "cell_type": "code",
<<<<<<< HEAD
   "execution_count": 4,
=======
   "execution_count": 123,
>>>>>>> da3d30624cedfa210421ab334544855501bdda0c
   "metadata": {},
   "outputs": [],
   "source": [
    "folder_path_train = \"../data/Match_Diff\""
   ]
  },
  {
   "cell_type": "code",
<<<<<<< HEAD
   "execution_count": 5,
   "metadata": {},
   "outputs": [],
   "source": [
    "data_dict = {}\n",
    "\n",
    "# Iterate over files in the folder\n",
    "for filename in os.listdir(folder_path_train):\n",
    "    if filename.endswith(\".csv\"):\n",
    "        file_path = os.path.join(folder_path_train, filename)\n",
    "        \n",
    "        # Extract the key from the filename\n",
    "        key = filename.replace(\"Match_Diff_\", \"\").replace(\".csv\", \"\")\n",
    "        \n",
    "        # Read the CSV file into a DataFrame\n",
    "        df = pd.read_csv(file_path)\n",
    "        \n",
    "        # Delete the first column from the DataFrame\n",
    "        df = df.drop(df.columns[0], axis=1)\n",
    "        \n",
    "        # Add the DataFrame to the dictionary with the key\n",
    "        data_dict[key] = df"
=======
   "execution_count": 124,
   "metadata": {},
   "outputs": [
    {
     "data": {
      "text/plain": [
       "{'DIAMOND':              matchId  target  jungleMinionsKilled  minionsKilled  totalGold  \\\n",
       " 0     LA2_1295998351       1                   -4             26       2016   \n",
       " 1     LA2_1297406314       1                   -3              8       4442   \n",
       " 2     LA2_1273457046       1                   16             -4       -590   \n",
       " 3     LA2_1296091346       0                  -12            -15       -715   \n",
       " 4     LA2_1281845995       1                   -8             39       1088   \n",
       " ...              ...     ...                  ...            ...        ...   \n",
       " 4900  LA2_1285568894       0                   -4            -21      -1950   \n",
       " 4901  LA2_1305200498       0                    8             -5       1036   \n",
       " 4902  LA2_1293816263       0                   12            -15       1130   \n",
       " 4903  LA2_1267892380       0                    1            -51      -5009   \n",
       " 4904  LA2_1285662717       1                   -8             -6        712   \n",
       " \n",
       "         xp  magicDamageDone  magicDamageDoneToChampions  magicDamageTaken  \\\n",
       " 0     1720           -16116                       -1495              1513   \n",
       " 1     1276             3738                         225             -1566   \n",
       " 2      573            -5792                        1424             -1028   \n",
       " 3       -5           -10025                        1908             -2367   \n",
       " 4      567           -12019                        -523               365   \n",
       " ...    ...              ...                         ...               ...   \n",
       " 4900 -1507            14129                        -944               104   \n",
       " 4901   943             7912                        2491             -3396   \n",
       " 4902  -324            40187                        1823             -1983   \n",
       " 4903 -2359            22351                        1851             -2611   \n",
       " 4904 -1051            18644                        3860             -4365   \n",
       " \n",
       "       physicalDamageDone  ...  monsterType_AIR_DRAGON  monsterType_RIFTHERALD  \\\n",
       " 0                  21721  ...                       0                       0   \n",
       " 1                  37627  ...                       1                       1   \n",
       " 2                  22966  ...                       0                       0   \n",
       " 3                  11388  ...                       0                       0   \n",
       " 4                  12831  ...                       0                      -1   \n",
       " ...                  ...  ...                     ...                     ...   \n",
       " 4900              -15056  ...                       0                      -1   \n",
       " 4901                5305  ...                       0                       0   \n",
       " 4902              -23504  ...                       0                       0   \n",
       " 4903              -36185  ...                       0                       1   \n",
       " 4904              -27039  ...                       0                       0   \n",
       " \n",
       "       monsterType_EARTH_DRAGON  monsterType_FIRE_DRAGON  \\\n",
       " 0                            0                        0   \n",
       " 1                            0                        0   \n",
       " 2                            1                        0   \n",
       " 3                            0                        1   \n",
       " 4                            0                        0   \n",
       " ...                        ...                      ...   \n",
       " 4900                         0                        0   \n",
       " 4901                         0                        1   \n",
       " 4902                        -1                        0   \n",
       " 4903                         0                        0   \n",
       " 4904                         0                        0   \n",
       " \n",
       "       monsterType_CHEMTECH_DRAGON  monsterType_WATER_DRAGON  \\\n",
       " 0                               0                         0   \n",
       " 1                               0                         0   \n",
       " 2                               0                         0   \n",
       " 3                               0                         0   \n",
       " 4                               1                         0   \n",
       " ...                           ...                       ...   \n",
       " 4900                            0                         0   \n",
       " 4901                            0                         0   \n",
       " 4902                            0                         0   \n",
       " 4903                            0                         0   \n",
       " 4904                            0                         0   \n",
       " \n",
       "       monsterType_HEXTECH_DRAGON  towerType_OUTER_TURRET  killType_KILL_ACE  \\\n",
       " 0                              0                       0                  0   \n",
       " 1                              0                       0                  0   \n",
       " 2                              0                       0                  0   \n",
       " 3                              0                       0                  0   \n",
       " 4                              0                       0                  0   \n",
       " ...                          ...                     ...                ...   \n",
       " 4900                           1                       0                  0   \n",
       " 4901                           0                       0                  0   \n",
       " 4902                           0                       0                  0   \n",
       " 4903                          -1                       0                  0   \n",
       " 4904                          -1                       0                  0   \n",
       " \n",
       "       towerType_INNER_TURRET  \n",
       " 0                          0  \n",
       " 1                          0  \n",
       " 2                          0  \n",
       " 3                          0  \n",
       " 4                          0  \n",
       " ...                      ...  \n",
       " 4900                       0  \n",
       " 4901                       0  \n",
       " 4902                       0  \n",
       " 4903                       0  \n",
       " 4904                       0  \n",
       " \n",
       " [4905 rows x 56 columns]}"
      ]
     },
     "execution_count": 124,
     "metadata": {},
     "output_type": "execute_result"
    }
   ],
   "source": [
    "data_dict = iterate_files(folder_path_train)\n",
    "data_dict\n",
    "\n"
>>>>>>> da3d30624cedfa210421ab334544855501bdda0c
   ]
  },
  {
   "attachments": {},
   "cell_type": "markdown",
   "metadata": {},
   "source": [
    "# STARTS MODEL"
   ]
  },
  {
   "cell_type": "code",
<<<<<<< HEAD
   "execution_count": 6,
   "metadata": {},
   "outputs": [],
   "source": [
    "from get_json import reduce_columns_train\n",
    "\n",
    "data_dict_red={}\n",
    "\n",
    "for key, df in data_dict.items():\n",
    "    \n",
    "    data_dict_red[key] = reduce_columns_train(data_dict[key])\n",
=======
   "execution_count": 125,
   "metadata": {},
   "outputs": [],
   "source": [
    "\n",
    "data_dict_read={}\n",
    "\n",
    "for key, df in data_dict.items():\n",
    "    \n",
    "    data_dict_read[key] = reduce_columns_train(data_dict[key])\n",
>>>>>>> da3d30624cedfa210421ab334544855501bdda0c
    "    \n"
   ]
  },
  {
   "cell_type": "code",
<<<<<<< HEAD
   "execution_count": 7,
=======
   "execution_count": 126,
>>>>>>> da3d30624cedfa210421ab334544855501bdda0c
   "metadata": {},
   "outputs": [],
   "source": [
    "from clean_preprocess import preprocess_train\n",
    "\n",
    "data_preprop = {}\n",
    "\n",
<<<<<<< HEAD
    "for key, df in data_dict_red.items():\n",
    "    \n",
    "    X = data_dict_red[key].drop(columns=\"target\")\n",
    "    \n",
    "    y = data_dict_red[key][\"target\"]\n",
=======
    "for key, df in data_dict_read.items():\n",
    "    \n",
    "    X = data_dict_read[key].drop(columns=\"target\")\n",
    "    \n",
    "    y = data_dict_read[key][\"target\"]\n",
>>>>>>> da3d30624cedfa210421ab334544855501bdda0c
    "\n",
    "    X_preprop,transformer = preprocess_train(X)\n",
    "    \n",
    "    data_preprop[key] = [X_preprop,y,transformer]"
   ]
  },
  {
   "cell_type": "code",
<<<<<<< HEAD
   "execution_count": 8,
=======
   "execution_count": 127,
   "metadata": {},
   "outputs": [
    {
     "data": {
      "text/plain": [
       "{'DIAMOND': [      killType_KILL_ACE  killType_KILL_FIRST_BLOOD  killType_KILL_MULTI  \\\n",
       "  0                   0.0                       -1.0                  1.0   \n",
       "  1                   0.0                       -1.0                  1.0   \n",
       "  2                   0.0                        0.0                  0.0   \n",
       "  3                   0.0                       -1.0                  0.0   \n",
       "  4                   0.0                        0.0                  0.0   \n",
       "  ...                 ...                        ...                  ...   \n",
       "  4900                0.0                        0.0                 -1.0   \n",
       "  4901                0.0                        0.0                 -1.0   \n",
       "  4902                0.0                        0.0                  0.0   \n",
       "  4903                0.0                       -1.0                 -1.0   \n",
       "  4904                0.0                        0.0                  0.0   \n",
       "  \n",
       "        minionsKilled  monsterType_AIR_DRAGON  monsterType_CHEMTECH_DRAGON  \\\n",
       "  0          0.658537                     0.0                          0.0   \n",
       "  1          0.219512                     1.0                          0.0   \n",
       "  2         -0.073171                     0.0                          0.0   \n",
       "  3         -0.341463                     0.0                          0.0   \n",
       "  4          0.975610                     0.0                          1.0   \n",
       "  ...             ...                     ...                          ...   \n",
       "  4900      -0.487805                     0.0                          0.0   \n",
       "  4901      -0.097561                     0.0                          0.0   \n",
       "  4902      -0.341463                     0.0                          0.0   \n",
       "  4903      -1.219512                     0.0                          0.0   \n",
       "  4904      -0.121951                     0.0                          0.0   \n",
       "  \n",
       "        monsterType_EARTH_DRAGON  monsterType_FIRE_DRAGON  \\\n",
       "  0                          0.0                      0.0   \n",
       "  1                          0.0                      0.0   \n",
       "  2                          1.0                      0.0   \n",
       "  3                          0.0                      1.0   \n",
       "  4                          0.0                      0.0   \n",
       "  ...                        ...                      ...   \n",
       "  4900                       0.0                      0.0   \n",
       "  4901                       0.0                      1.0   \n",
       "  4902                      -1.0                      0.0   \n",
       "  4903                       0.0                      0.0   \n",
       "  4904                       0.0                      0.0   \n",
       "  \n",
       "        monsterType_HEXTECH_DRAGON  monsterType_RIFTHERALD  \\\n",
       "  0                            0.0                     0.0   \n",
       "  1                            0.0                     1.0   \n",
       "  2                            0.0                     0.0   \n",
       "  3                            0.0                     0.0   \n",
       "  4                            0.0                    -1.0   \n",
       "  ...                          ...                     ...   \n",
       "  4900                         1.0                    -1.0   \n",
       "  4901                         0.0                     0.0   \n",
       "  4902                         0.0                     0.0   \n",
       "  4903                        -1.0                     1.0   \n",
       "  4904                        -1.0                     0.0   \n",
       "  \n",
       "        monsterType_WATER_DRAGON  totalGold  towerType_INNER_TURRET  \\\n",
       "  0                          0.0   0.686572                     0.0   \n",
       "  1                          0.0   1.505061                     0.0   \n",
       "  2                          0.0  -0.192645                     0.0   \n",
       "  3                          0.0  -0.234818                     0.0   \n",
       "  4                          0.0   0.373482                     0.0   \n",
       "  ...                        ...        ...                     ...   \n",
       "  4900                       0.0  -0.651484                     0.0   \n",
       "  4901                       0.0   0.355938                     0.0   \n",
       "  4902                       0.0   0.387652                     0.0   \n",
       "  4903                       0.0  -1.683536                     0.0   \n",
       "  4904                       0.0   0.246626                     0.0   \n",
       "  \n",
       "        towerType_OUTER_TURRET  \n",
       "  0                        0.0  \n",
       "  1                        0.0  \n",
       "  2                        0.0  \n",
       "  3                        0.0  \n",
       "  4                        0.0  \n",
       "  ...                      ...  \n",
       "  4900                     0.0  \n",
       "  4901                     0.0  \n",
       "  4902                     0.0  \n",
       "  4903                     0.0  \n",
       "  4904                     0.0  \n",
       "  \n",
       "  [4905 rows x 14 columns],\n",
       "  0       1\n",
       "  1       1\n",
       "  2       1\n",
       "  3       0\n",
       "  4       1\n",
       "         ..\n",
       "  4900    0\n",
       "  4901    0\n",
       "  4902    0\n",
       "  4903    0\n",
       "  4904    1\n",
       "  Name: target, Length: 4905, dtype: int64,\n",
       "  RobustScaler()]}"
      ]
     },
     "execution_count": 127,
     "metadata": {},
     "output_type": "execute_result"
    }
   ],
   "source": [
    "data_preprop"
   ]
  },
  {
   "cell_type": "code",
   "execution_count": 128,
>>>>>>> da3d30624cedfa210421ab334544855501bdda0c
   "metadata": {},
   "outputs": [
    {
     "data": {
      "text/plain": [
       "['killType_KILL_ACE',\n",
       " 'killType_KILL_FIRST_BLOOD',\n",
       " 'killType_KILL_MULTI',\n",
       " 'minionsKilled',\n",
       " 'monsterType_AIR_DRAGON',\n",
       " 'monsterType_CHEMTECH_DRAGON',\n",
       " 'monsterType_EARTH_DRAGON',\n",
       " 'monsterType_FIRE_DRAGON',\n",
       " 'monsterType_HEXTECH_DRAGON',\n",
       " 'monsterType_RIFTHERALD',\n",
       " 'monsterType_WATER_DRAGON',\n",
       " 'totalGold',\n",
       " 'towerType_INNER_TURRET',\n",
       " 'towerType_OUTER_TURRET']"
      ]
     },
<<<<<<< HEAD
     "execution_count": 8,
=======
     "execution_count": 128,
>>>>>>> da3d30624cedfa210421ab334544855501bdda0c
     "metadata": {},
     "output_type": "execute_result"
    }
   ],
   "source": [
<<<<<<< HEAD
    "columns_of_interest = data_preprop[\"IRON\"][0].columns.tolist()\n",
=======
    "league = \"DIAMOND\"\n",
    "columns_of_interest = data_preprop[league][0].columns.tolist()\n",
>>>>>>> da3d30624cedfa210421ab334544855501bdda0c
    "columns_of_interest"
   ]
  },
  {
   "attachments": {},
   "cell_type": "markdown",
   "metadata": {},
   "source": [
    "# LOG MODEL"
   ]
  },
  {
   "cell_type": "code",
<<<<<<< HEAD
   "execution_count": 9,
=======
   "execution_count": 129,
>>>>>>> da3d30624cedfa210421ab334544855501bdda0c
   "metadata": {},
   "outputs": [
    {
     "name": "stdout",
     "output_type": "stream",
     "text": [
<<<<<<< HEAD
      "IRON\n",
      "Best Hyperparameters:  {'C': 0.1, 'penalty': 'l1', 'solver': 'liblinear'}\n",
      "Best Score:  0.7357476220185917\n",
      "PLATINUM\n",
      "Best Hyperparameters:  {'C': 0.1, 'penalty': 'l1', 'solver': 'liblinear'}\n",
      "Best Score:  0.7179814586473033\n",
      "SILVER\n",
      "Best Hyperparameters:  {'C': 0.1, 'penalty': 'l2', 'solver': 'liblinear'}\n",
      "Best Score:  0.7126429818155621\n",
      "GOLD\n",
      "Best Hyperparameters:  {'C': 0.1, 'penalty': 'l2', 'solver': 'liblinear'}\n",
      "Best Score:  0.7137599820730117\n",
      "BRONZE\n",
      "Best Hyperparameters:  {'C': 1, 'penalty': 'l1', 'solver': 'liblinear'}\n",
      "Best Score:  0.7025020061905308\n",
      "CHALLENGER\n",
      "Best Hyperparameters:  {'C': 0.1, 'penalty': 'l1', 'solver': 'liblinear'}\n",
      "Best Score:  0.7233133473241978\n",
      "MASTER\n",
      "Best Hyperparameters:  {'C': 1, 'penalty': 'l1', 'solver': 'saga'}\n",
      "Best Score:  0.7052763483570029\n",
      "GRANDMASTER\n",
      "Best Hyperparameters:  {'C': 0.1, 'penalty': 'l1', 'solver': 'saga'}\n",
      "Best Score:  0.7123748584985016\n",
      "DIAMOND\n",
      "Best Hyperparameters:  {'C': 1, 'penalty': 'l2', 'solver': 'liblinear'}\n",
      "Best Score:  0.7043819056284935\n"
     ]
    }
   ],
   "source": [
    "#Look for the best params and export the model with these\n",
    "\n",
    "fitted_models = {}\n",
    "\n",
    "for key, value in data_preprop.items():\n",
    "    print(key)\n",
    "\n",
    "    X_preprop = data_preprop[key][0]\n",
    "    y = data_preprop[key][1]\n",
    "\n",
    "    X_train, X_test, y_train, y_test = train_test_split(X_preprop, y, test_size=0.2, random_state=42)\n",
    "\n",
    "    param_grid = {\n",
    "        'C': [0.1, 1, 10],\n",
    "        'penalty': ['l1', 'l2'],\n",
    "        'solver': ['liblinear', 'saga']\n",
    "    }\n",
    "\n",
    "    model = LogisticRegression(max_iter=5000)\n",
    "\n",
    "    grid_search = GridSearchCV(\n",
    "        estimator=model,\n",
    "        param_grid=param_grid,\n",
    "        scoring='accuracy',\n",
    "        cv=5\n",
    "    )\n",
    "\n",
    "    grid_search.fit(X_train, y_train)\n",
    "\n",
    "    print(\"Best Hyperparameters: \", grid_search.best_params_)\n",
    "    print(\"Best Score: \", grid_search.best_score_)\n",
    "\n",
    "    best_model = LogisticRegression(\n",
    "        C=grid_search.best_params_['C'],\n",
    "        penalty=grid_search.best_params_['penalty'],\n",
    "        solver=grid_search.best_params_['solver'],\n",
    "        max_iter=5000\n",
    "    )\n",
    "    best_model.fit(X_train, y_train)\n",
    "\n",
    "    # Save the fitted model in the dictionary using the key as the key\n",
    "    fitted_models[key] = best_model\n",
    "\n",
    "    # Export the model as a pickle file. Uncoment if you want\n",
    "    \"\"\"\n",
    "    filename = key + '_model.pkl'\n",
    "    with open(filename, 'wb') as file:\n",
    "        pickle.dump(best_model, file)\n",
    "    print(\"Model exported as\", filename)\n",
    "    \"\"\""
=======
      "DIAMOND\n",
      "Best Hyperparameters:  {'C': 1, 'penalty': 'l2', 'solver': 'liblinear'}\n",
      "Best Score:  0.7043819056284935\n",
      "Model exported as DIAMOND_model.pkl\n"
     ]
    },
    {
     "data": {
      "text/plain": [
       "{'DIAMOND': LogisticRegression(C=1, max_iter=5000, solver='liblinear')}"
      ]
     },
     "execution_count": 129,
     "metadata": {},
     "output_type": "execute_result"
    }
   ],
   "source": [
    "diccionario =train_and_export_models(data_preprop)\n",
    "diccionario"
>>>>>>> da3d30624cedfa210421ab334544855501bdda0c
   ]
  },
  {
   "attachments": {},
   "cell_type": "markdown",
   "metadata": {},
   "source": [
    "# PREDICTION"
   ]
  },
  {
   "cell_type": "code",
<<<<<<< HEAD
   "execution_count": 10,
   "metadata": {},
   "outputs": [],
   "source": [
    "pred_folder = \"../data/predict\""
=======
   "execution_count": 130,
   "metadata": {},
   "outputs": [],
   "source": [
    "pred_folder = \"../data/predict\"\n"
>>>>>>> da3d30624cedfa210421ab334544855501bdda0c
   ]
  },
  {
   "cell_type": "code",
<<<<<<< HEAD
   "execution_count": 11,
   "metadata": {},
   "outputs": [],
   "source": [
    "from get_json import process_folder\n",
    "from get_diff import calculate_event_differences\n",
    "from clean_preprocess import preprocess_pred\n",
    "from get_json import check_and_create_columns\n",
    "from get_json import check_and_create_columns\n"
   ]
  },
  {
   "cell_type": "code",
   "execution_count": 14,
   "metadata": {},
   "outputs": [
    {
     "name": "stderr",
     "output_type": "stream",
     "text": [
      "/home/santiagop/code/nicolas-muzzio/Spirit_of_the_LoL/notebooks/get_diff.py:33: FutureWarning: The frame.append method is deprecated and will be removed from pandas in a future version. Use pandas.concat instead.\n",
      "  all_events_diff = all_events_diff.append(resta_filas, ignore_index=True)\n"
     ]
    },
    {
     "data": {
      "text/plain": [
       "array([[0.39876417, 0.60123583]])"
      ]
     },
     "execution_count": 14,
     "metadata": {},
     "output_type": "execute_result"
    }
   ],
   "source": [
    "minute = 10\n",
    "look_events=[\"CHAMPION_SPECIAL_KILL\",\"CHAMPION_KILL\",\"ELITE_MONSTER_KILL\",\"BUILDING_KILL\"] \n",
    "folder_path = pred_folder\n",
    "\n",
    "league=\"IRON\"\n",
    "\n",
    "def prediction(pred_folder,minute,look_events,columns_of_interest,league):\n",
    "\n",
=======
   "execution_count": 134,
   "metadata": {},
   "outputs": [],
   "source": [
    "\n",
    "minute = 10\n",
    "look_events=[\"CHAMPION_SPECIAL_KILL\",\"CHAMPION_KILL\",\"ELITE_MONSTER_KILL\",\"BUILDING_KILL\"]\n",
    "folder_path = pred_folder\n",
    "league=\"DIAMOND\"\n",
    "pickle_file_path = f\"{league}_model.pkl\"\n",
    "with open(pickle_file_path, \"rb\") as file:\n",
    "    # Load the data from the pickle file\n",
    "    fitted_model = pickle.load(file)\n",
    "\n",
    "def prediction(pred_folder,minute,look_events,columns_of_interest,league, fitted_model):\n",
>>>>>>> da3d30624cedfa210421ab334544855501bdda0c
    "    df = process_folder(pred_folder,minute,look_events)\n",
    "    df_dif = calculate_event_differences(df)\n",
    "    df_dif.drop(columns=\"matchId\",inplace=True)\n",
    "    df_cc = check_and_create_columns(df_dif, columns_of_interest)\n",
<<<<<<< HEAD
    "    \n",
    "    X_pred_prep = preprocess_pred(df_cc,data_preprop[str(league)][2])\n",
    "\n",
    "    model = fitted_models[str(league)]\n",
    "    \n",
    "    results = model.predict_proba(X_pred_prep)\n",
    "\n",
    "    return results\n"
=======
    "    X_pred_prep = preprocess_pred(df_cc,data_preprop[str(league)][2])\n",
    "    model = fitted_model\n",
    "    #result = model.predict(X_pred_prep)\n",
    "    proba = model.predict_proba(X_pred_prep)\n",
    "    \n",
    "    return  proba"
>>>>>>> da3d30624cedfa210421ab334544855501bdda0c
   ]
  },
  {
   "cell_type": "code",
<<<<<<< HEAD
   "execution_count": 18,
=======
   "execution_count": 136,
   "metadata": {},
   "outputs": [
    {
     "data": {
      "text/html": [
       "<style>#sk-container-id-3 {color: black;background-color: white;}#sk-container-id-3 pre{padding: 0;}#sk-container-id-3 div.sk-toggleable {background-color: white;}#sk-container-id-3 label.sk-toggleable__label {cursor: pointer;display: block;width: 100%;margin-bottom: 0;padding: 0.3em;box-sizing: border-box;text-align: center;}#sk-container-id-3 label.sk-toggleable__label-arrow:before {content: \"▸\";float: left;margin-right: 0.25em;color: #696969;}#sk-container-id-3 label.sk-toggleable__label-arrow:hover:before {color: black;}#sk-container-id-3 div.sk-estimator:hover label.sk-toggleable__label-arrow:before {color: black;}#sk-container-id-3 div.sk-toggleable__content {max-height: 0;max-width: 0;overflow: hidden;text-align: left;background-color: #f0f8ff;}#sk-container-id-3 div.sk-toggleable__content pre {margin: 0.2em;color: black;border-radius: 0.25em;background-color: #f0f8ff;}#sk-container-id-3 input.sk-toggleable__control:checked~div.sk-toggleable__content {max-height: 200px;max-width: 100%;overflow: auto;}#sk-container-id-3 input.sk-toggleable__control:checked~label.sk-toggleable__label-arrow:before {content: \"▾\";}#sk-container-id-3 div.sk-estimator input.sk-toggleable__control:checked~label.sk-toggleable__label {background-color: #d4ebff;}#sk-container-id-3 div.sk-label input.sk-toggleable__control:checked~label.sk-toggleable__label {background-color: #d4ebff;}#sk-container-id-3 input.sk-hidden--visually {border: 0;clip: rect(1px 1px 1px 1px);clip: rect(1px, 1px, 1px, 1px);height: 1px;margin: -1px;overflow: hidden;padding: 0;position: absolute;width: 1px;}#sk-container-id-3 div.sk-estimator {font-family: monospace;background-color: #f0f8ff;border: 1px dotted black;border-radius: 0.25em;box-sizing: border-box;margin-bottom: 0.5em;}#sk-container-id-3 div.sk-estimator:hover {background-color: #d4ebff;}#sk-container-id-3 div.sk-parallel-item::after {content: \"\";width: 100%;border-bottom: 1px solid gray;flex-grow: 1;}#sk-container-id-3 div.sk-label:hover label.sk-toggleable__label {background-color: #d4ebff;}#sk-container-id-3 div.sk-serial::before {content: \"\";position: absolute;border-left: 1px solid gray;box-sizing: border-box;top: 0;bottom: 0;left: 50%;z-index: 0;}#sk-container-id-3 div.sk-serial {display: flex;flex-direction: column;align-items: center;background-color: white;padding-right: 0.2em;padding-left: 0.2em;position: relative;}#sk-container-id-3 div.sk-item {position: relative;z-index: 1;}#sk-container-id-3 div.sk-parallel {display: flex;align-items: stretch;justify-content: center;background-color: white;position: relative;}#sk-container-id-3 div.sk-item::before, #sk-container-id-3 div.sk-parallel-item::before {content: \"\";position: absolute;border-left: 1px solid gray;box-sizing: border-box;top: 0;bottom: 0;left: 50%;z-index: -1;}#sk-container-id-3 div.sk-parallel-item {display: flex;flex-direction: column;z-index: 1;position: relative;background-color: white;}#sk-container-id-3 div.sk-parallel-item:first-child::after {align-self: flex-end;width: 50%;}#sk-container-id-3 div.sk-parallel-item:last-child::after {align-self: flex-start;width: 50%;}#sk-container-id-3 div.sk-parallel-item:only-child::after {width: 0;}#sk-container-id-3 div.sk-dashed-wrapped {border: 1px dashed gray;margin: 0 0.4em 0.5em 0.4em;box-sizing: border-box;padding-bottom: 0.4em;background-color: white;}#sk-container-id-3 div.sk-label label {font-family: monospace;font-weight: bold;display: inline-block;line-height: 1.2em;}#sk-container-id-3 div.sk-label-container {text-align: center;}#sk-container-id-3 div.sk-container {/* jupyter's `normalize.less` sets `[hidden] { display: none; }` but bootstrap.min.css set `[hidden] { display: none !important; }` so we also need the `!important` here to be able to override the default hidden behavior on the sphinx rendered scikit-learn.org. See: https://github.com/scikit-learn/scikit-learn/issues/21755 */display: inline-block !important;position: relative;}#sk-container-id-3 div.sk-text-repr-fallback {display: none;}</style><div id=\"sk-container-id-3\" class=\"sk-top-container\"><div class=\"sk-text-repr-fallback\"><pre>LogisticRegression(C=1, max_iter=5000, solver=&#x27;liblinear&#x27;)</pre><b>In a Jupyter environment, please rerun this cell to show the HTML representation or trust the notebook. <br />On GitHub, the HTML representation is unable to render, please try loading this page with nbviewer.org.</b></div><div class=\"sk-container\" hidden><div class=\"sk-item\"><div class=\"sk-estimator sk-toggleable\"><input class=\"sk-toggleable__control sk-hidden--visually\" id=\"sk-estimator-id-3\" type=\"checkbox\" checked><label for=\"sk-estimator-id-3\" class=\"sk-toggleable__label sk-toggleable__label-arrow\">LogisticRegression</label><div class=\"sk-toggleable__content\"><pre>LogisticRegression(C=1, max_iter=5000, solver=&#x27;liblinear&#x27;)</pre></div></div></div></div></div>"
      ],
      "text/plain": [
       "LogisticRegression(C=1, max_iter=5000, solver='liblinear')"
      ]
     },
     "execution_count": 136,
     "metadata": {},
     "output_type": "execute_result"
    }
   ],
   "source": [
    "fitted_model"
   ]
  },
  {
   "cell_type": "code",
   "execution_count": 137,
>>>>>>> da3d30624cedfa210421ab334544855501bdda0c
   "metadata": {},
   "outputs": [
    {
     "name": "stderr",
     "output_type": "stream",
     "text": [
<<<<<<< HEAD
      "/home/santiagop/code/nicolas-muzzio/Spirit_of_the_LoL/notebooks/get_diff.py:33: FutureWarning: The frame.append method is deprecated and will be removed from pandas in a future version. Use pandas.concat instead.\n",
=======
      "/home/andres/code/nicolas-muzzio/Spirit_of_the_LoL/notebooks/get_diff.py:33: FutureWarning: The frame.append method is deprecated and will be removed from pandas in a future version. Use pandas.concat instead.\n",
>>>>>>> da3d30624cedfa210421ab334544855501bdda0c
      "  all_events_diff = all_events_diff.append(resta_filas, ignore_index=True)\n"
     ]
    },
    {
     "data": {
      "text/plain": [
<<<<<<< HEAD
       "0.60123582850202"
      ]
     },
     "execution_count": 18,
=======
       "array([[0.24640716, 0.75359284]])"
      ]
     },
     "execution_count": 137,
>>>>>>> da3d30624cedfa210421ab334544855501bdda0c
     "metadata": {},
     "output_type": "execute_result"
    }
   ],
   "source": [
<<<<<<< HEAD
    "prediction(pred_folder,minute,look_events,columns_of_interest,league)[0][1]"
   ]
  },
  {
   "cell_type": "code",
   "execution_count": null,
   "metadata": {},
   "outputs": [],
   "source": []
=======
    "prediction(pred_folder, minute, look_events, columns_of_interest, league, fitted_model)"
   ]
>>>>>>> da3d30624cedfa210421ab334544855501bdda0c
  }
 ],
 "metadata": {
  "kernelspec": {
   "display_name": "lewagon",
   "language": "python",
   "name": "python3"
  },
  "language_info": {
   "codemirror_mode": {
    "name": "ipython",
    "version": 3
   },
   "file_extension": ".py",
   "mimetype": "text/x-python",
   "name": "python",
   "nbconvert_exporter": "python",
   "pygments_lexer": "ipython3",
   "version": "3.10.6"
  },
  "orig_nbformat": 4
 },
 "nbformat": 4,
 "nbformat_minor": 2
}
