{
 "cells": [
  {
   "cell_type": "code",
   "execution_count": 42,
   "metadata": {},
   "outputs": [
    {
     "name": "stdout",
     "output_type": "stream",
     "text": [
      "The autoreload extension is already loaded. To reload it, use:\n",
      "  %reload_ext autoreload\n"
     ]
    }
   ],
   "source": [
    "%load_ext autoreload\n",
    "%autoreload 2"
   ]
  },
  {
   "cell_type": "code",
   "execution_count": 102,
   "metadata": {},
   "outputs": [],
   "source": [
    "import numpy as np\n",
    "import pandas as pd\n",
    "import os\n",
    "from sklearn.preprocessing import RobustScaler\n",
    "from sklearn.linear_model import LogisticRegression\n",
    "from sklearn.model_selection import cross_val_score\n",
    "from sklearn.inspection import permutation_importance\n",
    "from sklearn.linear_model import LogisticRegression\n",
    "from sklearn.model_selection import GridSearchCV\n",
    "from sklearn.model_selection import train_test_split\n",
    "import pickle\n",
    "import tensorflow as tf\n",
    "from tensorflow.keras import Sequential, layers\n",
    "from tensorflow.keras.layers import Dense\n",
    "\n"
   ]
  },
  {
   "attachments": {},
   "cell_type": "markdown",
   "metadata": {},
   "source": [
    "# IMPORT DATA"
   ]
  },
  {
   "cell_type": "code",
   "execution_count": 103,
   "metadata": {},
   "outputs": [],
   "source": [
    "folder_path_train = \"../data/Match_Diff\""
   ]
  },
  {
   "cell_type": "code",
   "execution_count": 104,
   "metadata": {},
   "outputs": [],
   "source": [
    "data_dict = {}\n",
    "\n",
    "# Iterate over files in the folder\n",
    "for filename in os.listdir(folder_path_train):\n",
    "    if filename.endswith(\".csv\"):\n",
    "        file_path = os.path.join(folder_path_train, filename)\n",
    "        \n",
    "        # Extract the key from the filename\n",
    "        key = filename.replace(\"Match_Diff_\", \"\").replace(\".csv\", \"\")\n",
    "        \n",
    "        # Read the CSV file into a DataFrame\n",
    "        df = pd.read_csv(file_path)\n",
    "        \n",
    "        # Delete the first column from the DataFrame\n",
    "        df = df.drop(df.columns[0], axis=1)\n",
    "        \n",
    "        # Add the DataFrame to the dictionary with the key\n",
    "        data_dict[key] = df"
   ]
  },
  {
   "attachments": {},
   "cell_type": "markdown",
   "metadata": {},
   "source": [
    "# STARTS MODEL"
   ]
  },
  {
   "cell_type": "code",
   "execution_count": 105,
   "metadata": {},
   "outputs": [],
   "source": [
    "from get_json import reduce_columns_train\n",
    "\n",
    "data_dict_red={}\n",
    "\n",
    "for key, df in data_dict.items():\n",
    "    \n",
    "    data_dict_red[key] = reduce_columns_train(data_dict[key])\n",
    "    \n"
   ]
  },
  {
   "cell_type": "code",
   "execution_count": 106,
   "metadata": {},
   "outputs": [],
   "source": [
    "from clean_preprocess import preprocess_train\n",
    "\n",
    "data_preprop = {}\n",
    "\n",
    "for key, df in data_dict_red.items():\n",
    "    \n",
    "    X = data_dict_red[key].drop(columns=\"target\")\n",
    "    \n",
    "    y = data_dict_red[key][\"target\"]\n",
    "\n",
    "    X_preprop,transformer = preprocess_train(X)\n",
    "    \n",
    "    data_preprop[key] = [X_preprop,y,transformer]"
   ]
  },
  {
   "cell_type": "code",
   "execution_count": 107,
   "metadata": {},
   "outputs": [
    {
     "data": {
      "text/plain": [
       "['killType_KILL_ACE',\n",
       " 'killType_KILL_FIRST_BLOOD',\n",
       " 'killType_KILL_MULTI',\n",
       " 'minionsKilled',\n",
       " 'monsterType_AIR_DRAGON',\n",
       " 'monsterType_CHEMTECH_DRAGON',\n",
       " 'monsterType_EARTH_DRAGON',\n",
       " 'monsterType_FIRE_DRAGON',\n",
       " 'monsterType_HEXTECH_DRAGON',\n",
       " 'monsterType_RIFTHERALD',\n",
       " 'monsterType_WATER_DRAGON',\n",
       " 'totalGold',\n",
       " 'towerType_INNER_TURRET',\n",
       " 'towerType_OUTER_TURRET']"
      ]
     },
     "execution_count": 107,
     "metadata": {},
     "output_type": "execute_result"
    }
   ],
   "source": [
    "columns_of_interest = data_preprop[\"IRON\"][0].columns.tolist()\n",
    "columns_of_interest"
   ]
  },
  {
   "attachments": {},
   "cell_type": "markdown",
   "metadata": {},
   "source": [
    "# LOG MODEL"
   ]
  },
  {
   "cell_type": "code",
   "execution_count": 108,
   "metadata": {},
   "outputs": [
    {
     "name": "stdout",
     "output_type": "stream",
     "text": [
      "IRON\n",
      "Best Hyperparameters:  {'C': 0.1, 'penalty': 'l1', 'solver': 'liblinear'}\n",
      "Best Score:  0.7357476220185917\n",
      "PLATINUM\n",
      "Best Hyperparameters:  {'C': 0.1, 'penalty': 'l1', 'solver': 'liblinear'}\n",
      "Best Score:  0.7182283722275502\n",
      "SILVER\n",
      "Best Hyperparameters:  {'C': 0.1, 'penalty': 'l2', 'solver': 'liblinear'}\n",
      "Best Score:  0.7126429818155621\n",
      "GOLD\n",
      "Best Hyperparameters:  {'C': 0.1, 'penalty': 'l2', 'solver': 'liblinear'}\n",
      "Best Score:  0.7137599820730117\n",
      "BRONZE\n",
      "Best Hyperparameters:  {'C': 1, 'penalty': 'l1', 'solver': 'liblinear'}\n",
      "Best Score:  0.7025020061905308\n",
      "CHALLENGER\n",
      "Best Hyperparameters:  {'C': 0.1, 'penalty': 'l1', 'solver': 'liblinear'}\n",
      "Best Score:  0.7233133473241978\n",
      "MASTER\n",
      "Best Hyperparameters:  {'C': 1, 'penalty': 'l1', 'solver': 'saga'}\n",
      "Best Score:  0.7052763483570029\n",
      "GRANDMASTER\n",
      "Best Hyperparameters:  {'C': 0.1, 'penalty': 'l1', 'solver': 'saga'}\n",
      "Best Score:  0.7123748584985016\n",
      "DIAMOND\n",
      "Best Hyperparameters:  {'C': 1, 'penalty': 'l2', 'solver': 'liblinear'}\n",
      "Best Score:  0.7043819056284935\n"
     ]
    }
   ],
   "source": [
    "#Look for the best params and export the model with these\n",
    "\n",
    "fitted_models = {}\n",
    "\n",
    "for key, value in data_preprop.items():\n",
    "    print(key)\n",
    "\n",
    "    X_preprop = data_preprop[key][0]\n",
    "    y = data_preprop[key][1]\n",
    "\n",
    "    X_train, X_test, y_train, y_test = train_test_split(X_preprop, y, test_size=0.2, random_state=42)\n",
    "\n",
    "    param_grid = {\n",
    "        'C': [0.1, 1, 10],\n",
    "        'penalty': ['l1', 'l2'],\n",
    "        'solver': ['liblinear', 'saga']\n",
    "    }\n",
    "\n",
    "    model = LogisticRegression(max_iter=5000)\n",
    "\n",
    "    grid_search = GridSearchCV(\n",
    "        estimator=model,\n",
    "        param_grid=param_grid,\n",
    "        scoring='accuracy',\n",
    "        cv=5\n",
    "    )\n",
    "\n",
    "    grid_search.fit(X_train, y_train)\n",
    "\n",
    "    print(\"Best Hyperparameters: \", grid_search.best_params_)\n",
    "    print(\"Best Score: \", grid_search.best_score_)\n",
    "\n",
    "    best_model = LogisticRegression(\n",
    "        C=grid_search.best_params_['C'],\n",
    "        penalty=grid_search.best_params_['penalty'],\n",
    "        solver=grid_search.best_params_['solver'],\n",
    "        max_iter=5000\n",
    "    )\n",
    "    best_model.fit(X_train, y_train)\n",
    "\n",
    "    # Save the fitted model in the dictionary using the key as the key\n",
    "    fitted_models[key] = best_model\n",
    "\n",
    "    # Export the model as a pickle file. Uncoment if you want\n",
    "    \"\"\"\n",
    "    filename = key + '_model.pkl'\n",
    "    with open(filename, 'wb') as file:\n",
    "        pickle.dump(best_model, file)\n",
    "    print(\"Model exported as\", filename)\n",
    "    \"\"\""
   ]
  },
  {
   "attachments": {},
   "cell_type": "markdown",
   "metadata": {},
   "source": [
    "# PREDICTION"
   ]
  },
  {
   "cell_type": "code",
   "execution_count": 109,
   "metadata": {},
   "outputs": [],
   "source": [
    "pred_folder = \"../data/predict\""
   ]
  },
  {
   "cell_type": "code",
   "execution_count": 110,
   "metadata": {},
   "outputs": [],
   "source": [
    "from get_json import process_folder\n",
    "from get_diff import calculate_event_differences\n",
    "from clean_preprocess import preprocess_pred"
   ]
  },
  {
   "cell_type": "code",
   "execution_count": 111,
   "metadata": {},
   "outputs": [
    {
     "data": {
      "text/html": [
       "<div>\n",
       "<style scoped>\n",
       "    .dataframe tbody tr th:only-of-type {\n",
       "        vertical-align: middle;\n",
       "    }\n",
       "\n",
       "    .dataframe tbody tr th {\n",
       "        vertical-align: top;\n",
       "    }\n",
       "\n",
       "    .dataframe thead th {\n",
       "        text-align: right;\n",
       "    }\n",
       "</style>\n",
       "<table border=\"1\" class=\"dataframe\">\n",
       "  <thead>\n",
       "    <tr style=\"text-align: right;\">\n",
       "      <th></th>\n",
       "      <th>jungleMinionsKilled</th>\n",
       "      <th>minionsKilled</th>\n",
       "      <th>totalGold</th>\n",
       "      <th>xp</th>\n",
       "      <th>magicDamageDone</th>\n",
       "      <th>magicDamageDoneToChampions</th>\n",
       "      <th>magicDamageTaken</th>\n",
       "      <th>physicalDamageDone</th>\n",
       "      <th>physicalDamageDoneToChampions</th>\n",
       "      <th>physicalDamageTaken</th>\n",
       "      <th>...</th>\n",
       "      <th>omnivamp</th>\n",
       "      <th>physicalVamp</th>\n",
       "      <th>power</th>\n",
       "      <th>powerMax</th>\n",
       "      <th>powerRegen</th>\n",
       "      <th>spellVamp</th>\n",
       "      <th>kills</th>\n",
       "      <th>killType_KILL_FIRST_BLOOD</th>\n",
       "      <th>matchId</th>\n",
       "      <th>target</th>\n",
       "    </tr>\n",
       "  </thead>\n",
       "  <tbody>\n",
       "    <tr>\n",
       "      <th>0</th>\n",
       "      <td>40</td>\n",
       "      <td>190</td>\n",
       "      <td>13400</td>\n",
       "      <td>17475</td>\n",
       "      <td>31417</td>\n",
       "      <td>2962</td>\n",
       "      <td>3845</td>\n",
       "      <td>54631</td>\n",
       "      <td>4306</td>\n",
       "      <td>9269</td>\n",
       "      <td>...</td>\n",
       "      <td>7</td>\n",
       "      <td>0</td>\n",
       "      <td>2059</td>\n",
       "      <td>3239</td>\n",
       "      <td>264</td>\n",
       "      <td>0</td>\n",
       "      <td>1</td>\n",
       "      <td>1</td>\n",
       "      <td>LA2_1308803773</td>\n",
       "      <td>1</td>\n",
       "    </tr>\n",
       "    <tr>\n",
       "      <th>1</th>\n",
       "      <td>40</td>\n",
       "      <td>185</td>\n",
       "      <td>12659</td>\n",
       "      <td>16157</td>\n",
       "      <td>22675</td>\n",
       "      <td>3434</td>\n",
       "      <td>3563</td>\n",
       "      <td>54528</td>\n",
       "      <td>2836</td>\n",
       "      <td>10067</td>\n",
       "      <td>...</td>\n",
       "      <td>0</td>\n",
       "      <td>0</td>\n",
       "      <td>1669</td>\n",
       "      <td>2700</td>\n",
       "      <td>105</td>\n",
       "      <td>0</td>\n",
       "      <td>1</td>\n",
       "      <td>0</td>\n",
       "      <td>LA2_1308803773</td>\n",
       "      <td>0</td>\n",
       "    </tr>\n",
       "  </tbody>\n",
       "</table>\n",
       "<p>2 rows × 45 columns</p>\n",
       "</div>"
      ],
      "text/plain": [
       "   jungleMinionsKilled  minionsKilled  totalGold     xp  magicDamageDone  \\\n",
       "0                   40            190      13400  17475            31417   \n",
       "1                   40            185      12659  16157            22675   \n",
       "\n",
       "   magicDamageDoneToChampions  magicDamageTaken  physicalDamageDone  \\\n",
       "0                        2962              3845               54631   \n",
       "1                        3434              3563               54528   \n",
       "\n",
       "   physicalDamageDoneToChampions  physicalDamageTaken  ...  omnivamp  \\\n",
       "0                           4306                 9269  ...         7   \n",
       "1                           2836                10067  ...         0   \n",
       "\n",
       "   physicalVamp  power  powerMax  powerRegen  spellVamp  kills  \\\n",
       "0             0   2059      3239         264          0      1   \n",
       "1             0   1669      2700         105          0      1   \n",
       "\n",
       "   killType_KILL_FIRST_BLOOD         matchId  target  \n",
       "0                          1  LA2_1308803773       1  \n",
       "1                          0  LA2_1308803773       0  \n",
       "\n",
       "[2 rows x 45 columns]"
      ]
     },
     "execution_count": 111,
     "metadata": {},
     "output_type": "execute_result"
    }
   ],
   "source": [
    "minute = 10\n",
    "look_events=[\"CHAMPION_SPECIAL_KILL\",\"CHAMPION_KILL\",\"ELITE_MONSTER_KILL\",\"BUILDING_KILL\"] \n",
    "folder_path = pred_folder\n",
    "\n",
    "df = process_folder(folder_path,minute,look_events)\n",
    "df\n"
   ]
  },
  {
   "cell_type": "code",
   "execution_count": 112,
   "metadata": {},
   "outputs": [
    {
     "name": "stderr",
     "output_type": "stream",
     "text": [
      "/home/santiagop/code/nicolas-muzzio/Spirit_of_the_LoL/notebooks/get_diff.py:33: FutureWarning: The frame.append method is deprecated and will be removed from pandas in a future version. Use pandas.concat instead.\n",
      "  all_events_diff = all_events_diff.append(resta_filas, ignore_index=True)\n"
     ]
    },
    {
     "data": {
      "text/html": [
       "<div>\n",
       "<style scoped>\n",
       "    .dataframe tbody tr th:only-of-type {\n",
       "        vertical-align: middle;\n",
       "    }\n",
       "\n",
       "    .dataframe tbody tr th {\n",
       "        vertical-align: top;\n",
       "    }\n",
       "\n",
       "    .dataframe thead th {\n",
       "        text-align: right;\n",
       "    }\n",
       "</style>\n",
       "<table border=\"1\" class=\"dataframe\">\n",
       "  <thead>\n",
       "    <tr style=\"text-align: right;\">\n",
       "      <th></th>\n",
       "      <th>matchId</th>\n",
       "      <th>jungleMinionsKilled</th>\n",
       "      <th>minionsKilled</th>\n",
       "      <th>totalGold</th>\n",
       "      <th>xp</th>\n",
       "      <th>magicDamageDone</th>\n",
       "      <th>magicDamageDoneToChampions</th>\n",
       "      <th>magicDamageTaken</th>\n",
       "      <th>physicalDamageDone</th>\n",
       "      <th>physicalDamageDoneToChampions</th>\n",
       "      <th>...</th>\n",
       "      <th>movementSpeed</th>\n",
       "      <th>omnivamp</th>\n",
       "      <th>physicalVamp</th>\n",
       "      <th>power</th>\n",
       "      <th>powerMax</th>\n",
       "      <th>powerRegen</th>\n",
       "      <th>spellVamp</th>\n",
       "      <th>kills</th>\n",
       "      <th>killType_KILL_FIRST_BLOOD</th>\n",
       "      <th>target</th>\n",
       "    </tr>\n",
       "  </thead>\n",
       "  <tbody>\n",
       "    <tr>\n",
       "      <th>0</th>\n",
       "      <td>LA2_1308803773</td>\n",
       "      <td>0</td>\n",
       "      <td>5</td>\n",
       "      <td>741</td>\n",
       "      <td>1318</td>\n",
       "      <td>8742</td>\n",
       "      <td>-472</td>\n",
       "      <td>282</td>\n",
       "      <td>103</td>\n",
       "      <td>1470</td>\n",
       "      <td>...</td>\n",
       "      <td>-45</td>\n",
       "      <td>7</td>\n",
       "      <td>0</td>\n",
       "      <td>390</td>\n",
       "      <td>539</td>\n",
       "      <td>159</td>\n",
       "      <td>0</td>\n",
       "      <td>0</td>\n",
       "      <td>1</td>\n",
       "      <td>1</td>\n",
       "    </tr>\n",
       "  </tbody>\n",
       "</table>\n",
       "<p>1 rows × 45 columns</p>\n",
       "</div>"
      ],
      "text/plain": [
       "          matchId jungleMinionsKilled minionsKilled totalGold    xp  \\\n",
       "0  LA2_1308803773                   0             5       741  1318   \n",
       "\n",
       "  magicDamageDone magicDamageDoneToChampions magicDamageTaken  \\\n",
       "0            8742                       -472              282   \n",
       "\n",
       "  physicalDamageDone physicalDamageDoneToChampions  ... movementSpeed  \\\n",
       "0                103                          1470  ...           -45   \n",
       "\n",
       "  omnivamp physicalVamp power powerMax powerRegen spellVamp kills  \\\n",
       "0        7            0   390      539        159         0     0   \n",
       "\n",
       "  killType_KILL_FIRST_BLOOD target  \n",
       "0                         1      1  \n",
       "\n",
       "[1 rows x 45 columns]"
      ]
     },
     "execution_count": 112,
     "metadata": {},
     "output_type": "execute_result"
    }
   ],
   "source": [
    "df_dif = calculate_event_differences(df)\n",
    "df_dif"
   ]
  },
  {
   "cell_type": "code",
   "execution_count": 113,
   "metadata": {},
   "outputs": [
    {
     "data": {
      "text/html": [
       "<div>\n",
       "<style scoped>\n",
       "    .dataframe tbody tr th:only-of-type {\n",
       "        vertical-align: middle;\n",
       "    }\n",
       "\n",
       "    .dataframe tbody tr th {\n",
       "        vertical-align: top;\n",
       "    }\n",
       "\n",
       "    .dataframe thead th {\n",
       "        text-align: right;\n",
       "    }\n",
       "</style>\n",
       "<table border=\"1\" class=\"dataframe\">\n",
       "  <thead>\n",
       "    <tr style=\"text-align: right;\">\n",
       "      <th></th>\n",
       "      <th>minionsKilled</th>\n",
       "      <th>totalGold</th>\n",
       "      <th>killType_KILL_FIRST_BLOOD</th>\n",
       "      <th>killType_KILL_ACE</th>\n",
       "      <th>killType_KILL_MULTI</th>\n",
       "      <th>monsterType_AIR_DRAGON</th>\n",
       "      <th>monsterType_CHEMTECH_DRAGON</th>\n",
       "      <th>monsterType_EARTH_DRAGON</th>\n",
       "      <th>monsterType_FIRE_DRAGON</th>\n",
       "      <th>monsterType_HEXTECH_DRAGON</th>\n",
       "      <th>monsterType_RIFTHERALD</th>\n",
       "      <th>monsterType_WATER_DRAGON</th>\n",
       "      <th>towerType_INNER_TURRET</th>\n",
       "      <th>towerType_OUTER_TURRET</th>\n",
       "    </tr>\n",
       "  </thead>\n",
       "  <tbody>\n",
       "    <tr>\n",
       "      <th>0</th>\n",
       "      <td>5</td>\n",
       "      <td>741</td>\n",
       "      <td>1</td>\n",
       "      <td>0</td>\n",
       "      <td>0</td>\n",
       "      <td>0</td>\n",
       "      <td>0</td>\n",
       "      <td>0</td>\n",
       "      <td>0</td>\n",
       "      <td>0</td>\n",
       "      <td>0</td>\n",
       "      <td>0</td>\n",
       "      <td>0</td>\n",
       "      <td>0</td>\n",
       "    </tr>\n",
       "  </tbody>\n",
       "</table>\n",
       "</div>"
      ],
      "text/plain": [
       "  minionsKilled totalGold killType_KILL_FIRST_BLOOD  killType_KILL_ACE  \\\n",
       "0             5       741                         1                  0   \n",
       "\n",
       "   killType_KILL_MULTI  monsterType_AIR_DRAGON  monsterType_CHEMTECH_DRAGON  \\\n",
       "0                    0                       0                            0   \n",
       "\n",
       "   monsterType_EARTH_DRAGON  monsterType_FIRE_DRAGON  \\\n",
       "0                         0                        0   \n",
       "\n",
       "   monsterType_HEXTECH_DRAGON  monsterType_RIFTHERALD  \\\n",
       "0                           0                       0   \n",
       "\n",
       "   monsterType_WATER_DRAGON  towerType_INNER_TURRET  towerType_OUTER_TURRET  \n",
       "0                         0                       0                       0  "
      ]
     },
     "execution_count": 113,
     "metadata": {},
     "output_type": "execute_result"
    }
   ],
   "source": [
    "from get_json import check_and_create_columns\n",
    "\n",
    "df_dif.drop(columns=\"matchId\",inplace=True)\n",
    "\n",
    "df_cc = check_and_create_columns(df_dif, columns_of_interest)\n",
    "df_cc"
   ]
  },
  {
   "cell_type": "code",
   "execution_count": 115,
   "metadata": {},
   "outputs": [
    {
     "data": {
      "text/html": [
       "<div>\n",
       "<style scoped>\n",
       "    .dataframe tbody tr th:only-of-type {\n",
       "        vertical-align: middle;\n",
       "    }\n",
       "\n",
       "    .dataframe tbody tr th {\n",
       "        vertical-align: top;\n",
       "    }\n",
       "\n",
       "    .dataframe thead th {\n",
       "        text-align: right;\n",
       "    }\n",
       "</style>\n",
       "<table border=\"1\" class=\"dataframe\">\n",
       "  <thead>\n",
       "    <tr style=\"text-align: right;\">\n",
       "      <th></th>\n",
       "      <th>killType_KILL_ACE</th>\n",
       "      <th>killType_KILL_FIRST_BLOOD</th>\n",
       "      <th>killType_KILL_MULTI</th>\n",
       "      <th>minionsKilled</th>\n",
       "      <th>monsterType_AIR_DRAGON</th>\n",
       "      <th>monsterType_CHEMTECH_DRAGON</th>\n",
       "      <th>monsterType_EARTH_DRAGON</th>\n",
       "      <th>monsterType_FIRE_DRAGON</th>\n",
       "      <th>monsterType_HEXTECH_DRAGON</th>\n",
       "      <th>monsterType_RIFTHERALD</th>\n",
       "      <th>monsterType_WATER_DRAGON</th>\n",
       "      <th>totalGold</th>\n",
       "      <th>towerType_INNER_TURRET</th>\n",
       "      <th>towerType_OUTER_TURRET</th>\n",
       "    </tr>\n",
       "  </thead>\n",
       "  <tbody>\n",
       "    <tr>\n",
       "      <th>0</th>\n",
       "      <td>0.0</td>\n",
       "      <td>0.0</td>\n",
       "      <td>0.0</td>\n",
       "      <td>0.155556</td>\n",
       "      <td>0.0</td>\n",
       "      <td>0.0</td>\n",
       "      <td>0.0</td>\n",
       "      <td>0.0</td>\n",
       "      <td>0.0</td>\n",
       "      <td>0.0</td>\n",
       "      <td>0.0</td>\n",
       "      <td>0.233998</td>\n",
       "      <td>0.0</td>\n",
       "      <td>0.0</td>\n",
       "    </tr>\n",
       "  </tbody>\n",
       "</table>\n",
       "</div>"
      ],
      "text/plain": [
       "   killType_KILL_ACE  killType_KILL_FIRST_BLOOD  killType_KILL_MULTI  \\\n",
       "0                0.0                        0.0                  0.0   \n",
       "\n",
       "   minionsKilled  monsterType_AIR_DRAGON  monsterType_CHEMTECH_DRAGON  \\\n",
       "0       0.155556                     0.0                          0.0   \n",
       "\n",
       "   monsterType_EARTH_DRAGON  monsterType_FIRE_DRAGON  \\\n",
       "0                       0.0                      0.0   \n",
       "\n",
       "   monsterType_HEXTECH_DRAGON  monsterType_RIFTHERALD  \\\n",
       "0                         0.0                     0.0   \n",
       "\n",
       "   monsterType_WATER_DRAGON  totalGold  towerType_INNER_TURRET  \\\n",
       "0                       0.0   0.233998                     0.0   \n",
       "\n",
       "   towerType_OUTER_TURRET  \n",
       "0                     0.0  "
      ]
     },
     "execution_count": 115,
     "metadata": {},
     "output_type": "execute_result"
    }
   ],
   "source": [
    "X_pred_prep = preprocess_pred(df_cc,data_preprop[\"IRON\"][2])\n",
    "X_pred_prep"
   ]
  },
  {
   "cell_type": "code",
   "execution_count": 116,
   "metadata": {},
   "outputs": [],
   "source": [
    "model_iron = fitted_models[\"IRON\"]"
   ]
  },
  {
   "cell_type": "code",
   "execution_count": 118,
   "metadata": {},
   "outputs": [
    {
     "data": {
      "text/plain": [
       "array([[0.39874876, 0.60125124]])"
      ]
     },
     "execution_count": 118,
     "metadata": {},
     "output_type": "execute_result"
    }
   ],
   "source": [
    "model_iron.predict_proba(X_pred_prep)"
   ]
  },
  {
   "cell_type": "code",
   "execution_count": null,
   "metadata": {},
   "outputs": [],
   "source": []
  }
 ],
 "metadata": {
  "kernelspec": {
   "display_name": "lewagon",
   "language": "python",
   "name": "python3"
  },
  "language_info": {
   "codemirror_mode": {
    "name": "ipython",
    "version": 3
   },
   "file_extension": ".py",
   "mimetype": "text/x-python",
   "name": "python",
   "nbconvert_exporter": "python",
   "pygments_lexer": "ipython3",
   "version": "3.10.6"
  },
  "orig_nbformat": 4
 },
 "nbformat": 4,
 "nbformat_minor": 2
}
